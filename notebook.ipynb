{
 "cells": [
  {
   "cell_type": "markdown",
   "id": "5bf60df4",
   "metadata": {},
   "source": [
    "# **Project Topic**\n",
    "\n",
    "This is a Supervised Machine Learning problem and the task is classification. The goal of this project is to evaluate several machine learning models such as KNN,Decision Trees, and finally an Ensemble Boosting alrogirthm (AdaBoost) to predict whether a person has Diabetes based on a number of lifestyle features.\n",
    "\n",
    "## **Data Information**\n",
    "\n",
    "##### Source\n",
    "\n",
    "The source of this data was obtained via [UC Irvine Machine Learning Repository](https://archive.ics.uci.edu/dataset/891/cdc+diabetes+health+indicators).    \n",
    "[Relevant CDC Report](https://www.cdc.gov/mmwr/volumes/66/wr/mm6643a2.htm)\n",
    "\n",
    "##### Description and Details\n",
    "\n",
    "This data is the result of a study funded the United States Centers for Disease Control and Prevention (CDC). The data contains 21 features and approximately 253,680 rows. It is tabular data inside a single table.\n",
    "\n",
    "The data includes an ID (unique integer) and our target Diabetes_binary in addition to the features detailed below.\n",
    "\n",
    "| **Feature** | **Type** |\n",
    "| :---------: | :------: |\n",
    "| HighBP      | Binary   |   \n",
    "| HighChol | Binary |\n",
    "| CholCheck | Binary |\n",
    "| BMI | Integer |\n",
    "| Smoker | Binary |\n",
    "| Stroke | Binary |\n",
    "| HeartDiseaseorAttack | Binary |\n",
    "| PhysActivity | Binary |\n",
    "| Fruits | Binary |\n",
    "| Veggies | Binary |\n",
    "| HvyAlcoholConsump | Binary |\n",
    "| AnyHealthcare | Binary |\n",
    "| NoDocbcCost | Binary    \n",
    "| GenHlth | Integer |\n",
    "| MentHlth | Integer |\n",
    "| PhysHlth | Integer |\n",
    "| DiffWalk | Binary |\n",
    "| Sex | Binary |\n",
    "| Age | Integer |\n",
    "| Education | Integer |\n",
    "| Income | Integer |\n",
    "\n",
    "\n",
    "## **Data Cleaning**\n",
    "\n",
    "First install necessary packages."
   ]
  },
  {
   "cell_type": "code",
   "execution_count": null,
   "id": "2066483d",
   "metadata": {},
   "outputs": [],
   "source": [
    "%pip install ucimlrepo\n",
    "%pip install scikit-learn\n",
    "%pip install matplotlib"
   ]
  },
  {
   "cell_type": "markdown",
   "id": "b5b5fc6b",
   "metadata": {},
   "source": [
    "Next import necessary libraries and fetch the dataset"
   ]
  },
  {
   "cell_type": "code",
   "execution_count": null,
   "id": "3ffe09b3",
   "metadata": {},
   "outputs": [],
   "source": [
    "import numpy as np\n",
    "import pandas as pd\n",
    "from sklearn.neighbors import KNeighborsClassifier\n",
    "from sklearn.tree import DecisionTreeClassifier\n",
    "from sklearn.ensemble import AdaBoostClassifier\n",
    "from sklearn.model_selection import train_test_split\n",
    "import matplotlib.pylab as plt \n",
    "%matplotlib inline\n",
    "\n",
    "from ucimlrepo import fetch_ucirepo \n",
    "  \n",
    "# fetch dataset \n",
    "cdc_diabetes_health_indicators = fetch_ucirepo(id=891) \n",
    "  \n",
    "# data (as pandas dataframes) \n",
    "X = cdc_diabetes_health_indicators.data.features \n",
    "y = cdc_diabetes_health_indicators.data.targets \n",
    "\n",
    "# print the first 5 rows of the dataset\n",
    "print(X.head())\n",
    "print(y.head())\n",
    "# print the shape of the dataset\n",
    "print(X.shape)\n",
    "print(y.shape)\n",
    "# print the column names of the dataset\n",
    "print(X.columns)\n",
    "\n",
    "# metadata \n",
    "print(cdc_diabetes_health_indicators.metadata) \n",
    "  \n",
    "# variable information \n",
    "print(cdc_diabetes_health_indicators.variables) "
   ]
  }
 ],
 "metadata": {
  "kernelspec": {
   "display_name": "Python 3",
   "language": "python",
   "name": "python3"
  },
  "language_info": {
   "codemirror_mode": {
    "name": "ipython",
    "version": 3
   },
   "file_extension": ".py",
   "mimetype": "text/x-python",
   "name": "python",
   "nbconvert_exporter": "python",
   "pygments_lexer": "ipython3",
   "version": "3.11.0"
  }
 },
 "nbformat": 4,
 "nbformat_minor": 5
}
